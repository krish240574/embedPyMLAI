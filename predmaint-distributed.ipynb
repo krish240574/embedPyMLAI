{
 "cells": [
  {
   "cell_type": "code",
   "execution_count": 1,
   "metadata": {
    "collapsed": true
   },
   "outputs": [],
   "source": [
    "\\l p.q"
   ]
  },
  {
   "cell_type": "code",
   "execution_count": 5,
   "metadata": {},
   "outputs": [],
   "source": [
    "seq:.p.import[`keras;`:models;`:Sequential;*]\n",
    "keras:.p.import `keras\n",
    "dense:.p.import[`keras;`:layers;`:Dense;*]\n",
    "K:.p.import[`keras;`:backend]\n",
    "pd:.p.import `pandas\n",
    "np:.p.import `numpy\n",
    "hvd:.p.import `horovod.tensorflow"
   ]
  },
  {
   "cell_type": "code",
   "execution_count": 22,
   "metadata": {
    "collapsed": true
   },
   "outputs": [],
   "source": [
    "nparray:.p.import[`numpy;`:array;>]"
   ]
  },
  {
   "cell_type": "code",
   "execution_count": 7,
   "metadata": {},
   "outputs": [],
   "source": [
    "colStr:\"IIIII\"\n",
    "d:(colStr;enlist \",\")0: `:/home/kkumar/q/l64/hdata.csv"
   ]
  },
  {
   "cell_type": "code",
   "execution_count": null,
   "metadata": {
    "collapsed": true
   },
   "outputs": [],
   "source": [
    "cd:cols d"
   ]
  },
  {
   "cell_type": "code",
   "execution_count": 11,
   "metadata": {},
   "outputs": [],
   "source": [
    "e:\"f\"$d`Event;t:\"f\"$d`Time"
   ]
  },
  {
   "cell_type": "code",
   "execution_count": 15,
   "metadata": {},
   "outputs": [],
   "source": [
    "x:\"f\"$flip d cd where not cd in `Event`Time"
   ]
  },
  {
   "cell_type": "code",
   "execution_count": 17,
   "metadata": {},
   "outputs": [
    {
     "data": {
      "text/plain": [
       "k){'[y;x]}/,[enlist]|:@[{[f;x]embedPy[f;x]}].[code[code;]enlist[;;][foreign]]..\n"
      ]
     },
     "execution_count": 17,
     "metadata": {},
     "output_type": "execute_result"
    }
   ],
   "source": [
    "hvd[`:init;*]\n",
    "tf:.p.import `tensorflow"
   ]
  },
  {
   "cell_type": "code",
   "execution_count": 20,
   "metadata": {},
   "outputs": [],
   "source": [
    "trainnet:{[data]\n",
    "    nn:tf[`:layers;`:Dense;*;data;3;`activation pykw tf[`:nn;`:relu;*]];\n",
    "    nn:tf[`:layers;`:Dense;*;data;100;`activation pykw tf[`:nn;`:relu;*]];\n",
    "    nn:tf[`:layers;`:Dense;*;data;100;`activation pykw tf[`:nn;`:relu;*]];\n",
    "    nn:tf[`:layers;`:Dense;*;data;100;`activation pykw tf[`:nn;`:relu;*]];\n",
    "    nn:tf[`:layers;`:Dense;*;data;1;`activation pykw tf[`:nn;`:relu;*]];\n",
    "    :nn\n",
    "    }"
   ]
  },
  {
   "cell_type": "code",
   "execution_count": 24,
   "metadata": {},
   "outputs": [
    {
     "name": "stderr",
     "output_type": "stream",
     "text": [
      "TypeError: __init__() got multiple values for argument 'activation'\n"
     ]
    },
    {
     "ename": "\u001b[0;31mp.c:80 call pyerr\u001b[0m",
     "evalue": "\u001b[0;31mp.c:80 call pyerr\u001b[0m",
     "output_type": "error",
     "traceback": [
      "\u001b[0;31mevaluation error:\n\u001b[0m",
      "\u001b[0;31mp.c:80 call pyerr\u001b[0m",
      "\u001b[0;31m\u001b[0m",
      "\u001b[0;31m  [7]  /home/kkumar/q/p.q:18: .p.embedPy:\n      $[any u:x0~/:(*;<;>);\n         [c:(wrap;py2q;::)where[u]0;$[1=count x;.p.c c,;c .[;1_x]@]pyfunc f]; / call type\n                                    ^\n        (:)~x0;[setattr . f,@[;0;{`$_[\":\"=s 0]s:string x}]1_x;];\n\u001b[0m",
      "\u001b[0;31m  [6]  /home/kkumar/q/p.q:30: .p.i.wf:{[f;x]embedPy[f;x]}\n                                            ^\n\u001b[0m",
      "\u001b[0;31m  [5]  /home/kkumar/q/p.q:25: .p.embedPy:\n    \":\"~first a0:string x0;                                                / attr lookup and possible call\n     $[1=count x;;.[;1_x]]wrap f getattr/` vs`$1_a0;\n     ^\n    x0~`.;f;x0~`;py2q f;                                                   / extract as foreign or q\n\u001b[0m",
      "\u001b[0;31m  [4]  /home/kkumar/q/p.q:30: .p.i.wf:{[f;x]embedPy[f;x]}\n                                            ^\n\u001b[0m",
      "\u001b[0;31m  [3]  /home/kkumar/q/p.q:25: .p.embedPy:\n    \":\"~first a0:string x0;                                                / attr lookup and possible call\n     $[1=count x;;.[;1_x]]wrap f getattr/` vs`$1_a0;\n     ^\n    x0~`.;f;x0~`;py2q f;                                                   / extract as foreign or q\n\u001b[0m",
      "\u001b[0;31m  [2]  /home/kkumar/q/p.q:30: .p.i.wf:{[f;x]embedPy[f;x]}\n                                            ^\n\u001b[0m",
      "\u001b[0;31m  [1]  trainnet:{[data]\n    nn:tf[`:layers;`:Dense;*;data;3;`activation pykw tf[`:nn;`:relu;*]];\n       ^\n    nn:tf[`:layers;`:Dense;*;data;100;`activation pykw tf[`:nn;`:relu;*]];\n\u001b[0m",
      "\u001b[0;31m  [0]  nn:trainnet[tf[`:convert_to_tensor;*;nparray x til 1000]]\n          ^\n\u001b[0m"
     ]
    }
   ],
   "source": [
    "nn:trainnet[tf[`:convert_to_tensor;*;nparray x til 1000]]"
   ]
  },
  {
   "cell_type": "code",
   "execution_count": 24,
   "metadata": {},
   "outputs": [
    {
     "data": {
      "text/plain": [
       "{[f;x]embedPy[f;x]}[foreign]enlist\n"
      ]
     },
     "execution_count": 24,
     "metadata": {},
     "output_type": "execute_result"
    }
   ],
   "source": [
    "tf[`:convert_to_tensor;*;nparray x til 1000]"
   ]
  },
  {
   "cell_type": "code",
   "execution_count": null,
   "metadata": {
    "collapsed": true
   },
   "outputs": [],
   "source": []
  }
 ],
 "metadata": {
  "kernelspec": {
   "display_name": "Q 3.5",
   "language": "q",
   "name": "qpk"
  },
  "language_info": {
   "file_extension": ".q",
   "mimetype": "text/x-q",
   "name": "q",
   "version": "3.5.0"
  }
 },
 "nbformat": 4,
 "nbformat_minor": 2
}
