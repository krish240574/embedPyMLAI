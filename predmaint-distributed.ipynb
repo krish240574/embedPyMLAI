{
 "cells": [
  {
   "cell_type": "code",
   "execution_count": 1,
   "metadata": {
    "collapsed": true
   },
   "outputs": [],
   "source": [
    "\\l p.q"
   ]
  },
  {
   "cell_type": "code",
   "execution_count": 2,
   "metadata": {},
   "outputs": [
    {
     "name": "stderr",
     "output_type": "stream",
     "text": [
      "/opt/A3/lib/python3.6/site-packages/h5py/__init__.py:34: FutureWarning: Conversion of the second argument of issubdtype from `float` to `np.floating` is deprecated. In future, it will be treated as `np.float64 == np.dtype(float).type`.\n",
      "  from ._conv import register_converters as _register_converters\n",
      "Using TensorFlow backend.\n",
      "/opt/A3/lib/python3.6/importlib/_bootstrap.py:219: RuntimeWarning: compiletime version 3.5 of module 'tensorflow.python.framework.fast_tensor_util' does not match runtime version 3.6\n",
      "  return f(*args, **kwds)\n"
     ]
    }
   ],
   "source": [
    "seq:.p.import[`keras;`:models;`:Sequential;*]\n",
    "keras:.p.import `keras\n",
    "dense:.p.import[`keras;`:layers;`:Dense;*]\n",
    "K:.p.import[`keras;`:backend]\n",
    "pd:.p.import `pandas\n",
    "np:.p.import `numpy\n",
    "hvd:.p.import `horovod.tensorflow"
   ]
  },
  {
   "cell_type": "code",
   "execution_count": 3,
   "metadata": {},
   "outputs": [
    {
     "data": {
      "text/plain": [
       "{[f;x]embedPy[f;x]}[foreign]enlist\n"
      ]
     },
     "execution_count": 3,
     "metadata": {},
     "output_type": "execute_result"
    }
   ],
   "source": [
    "hvd[`:init;*][]"
   ]
  },
  {
   "cell_type": "code",
   "execution_count": 4,
   "metadata": {
    "collapsed": true
   },
   "outputs": [],
   "source": [
    "nparray:.p.import[`numpy;`:array;>]"
   ]
  },
  {
   "cell_type": "code",
   "execution_count": 5,
   "metadata": {
    "collapsed": true
   },
   "outputs": [],
   "source": [
    "colStr:\"IIIII\"\n",
    "d:(colStr;enlist \",\")0: `:/home/kkumar/q/l64/hdata.csv"
   ]
  },
  {
   "cell_type": "code",
   "execution_count": 6,
   "metadata": {
    "collapsed": true
   },
   "outputs": [],
   "source": [
    "cd:cols d"
   ]
  },
  {
   "cell_type": "code",
   "execution_count": 7,
   "metadata": {
    "collapsed": true
   },
   "outputs": [],
   "source": [
    "e:\"f\"$d`Event;t:\"f\"$d`Time"
   ]
  },
  {
   "cell_type": "code",
   "execution_count": 8,
   "metadata": {
    "collapsed": true
   },
   "outputs": [],
   "source": [
    "x:\"f\"$flip d cd where not cd in `Event`Time"
   ]
  },
  {
   "cell_type": "code",
   "execution_count": 9,
   "metadata": {},
   "outputs": [
    {
     "data": {
      "text/plain": [
       "k){'[y;x]}/,[enlist]|:@[{[f;x]embedPy[f;x]}].[code[code;]enlist[;;][foreign]]..\n"
      ]
     },
     "execution_count": 9,
     "metadata": {},
     "output_type": "execute_result"
    }
   ],
   "source": [
    "hvd[`:init;*]\n",
    "tf:.p.import `tensorflow"
   ]
  },
  {
   "cell_type": "code",
   "execution_count": 10,
   "metadata": {
    "collapsed": true
   },
   "outputs": [],
   "source": [
    "trainnet:{[data]\n",
    "    nn:tf[`:layers;`:dense;*;data;3;`activation pykw tf[`:nn;`:relu]];\n",
    "    nn:tf[`:layers;`:dense;*;nn;100;`activation pykw tf[`:nn;`:relu]];\n",
    "    nn:tf[`:layers;`:dense;*;nn;100;`activation pykw tf[`:nn;`:relu]];\n",
    "    nn:tf[`:layers;`:dense;*;nn;100;`activation pykw tf[`:nn;`:relu]];\n",
    "    nn:tf[`:layers;`:dense;*;nn;1;`activation pykw tf[`:nn;`:relu]];\n",
    "    :nn\n",
    "    }"
   ]
  },
  {
   "cell_type": "code",
   "execution_count": 11,
   "metadata": {
    "collapsed": true
   },
   "outputs": [],
   "source": [
    "nn:trainnet[tf[`:convert_to_tensor;*;nparray x til 1000]]"
   ]
  },
  {
   "cell_type": "code",
   "execution_count": 12,
   "metadata": {
    "collapsed": true
   },
   "outputs": [],
   "source": [
    "e:tf[`:placeholder;*;pykwargs (`dtype;`name)!(`float64;`e)]\n",
    "t:tf[`:placeholder;*;pykwargs (`dtype;`name)!(`float64;`t)]\n",
    "x:tf[`:placeholder;*;pykwargs (`dtype;`name)!(`float64;`x)]"
   ]
  },
  {
   "cell_type": "code",
   "execution_count": 13,
   "metadata": {
    "collapsed": true
   },
   "outputs": [],
   "source": [
    "cost:tf[`:divide;*;tf[`:subtract;*;tf[`:transpose;*;nn];tf[`:log;*;tf[`:cumsum;*;tf[`:exp;*;nn]]]];tf[`:reduce_sum;*;e]];"
   ]
  },
  {
   "cell_type": "code",
   "execution_count": 14,
   "metadata": {
    "collapsed": true
   },
   "outputs": [],
   "source": [
    "opt:tf[`:train;`:GradientDescentOptimizer;*;0.01*hvd[`:size;<][]]"
   ]
  },
  {
   "cell_type": "code",
   "execution_count": 15,
   "metadata": {
    "collapsed": true
   },
   "outputs": [],
   "source": [
    "global_step:tf[`:train;`:get_or_create_global_step;*][]"
   ]
  },
  {
   "cell_type": "code",
   "execution_count": 16,
   "metadata": {
    "collapsed": true
   },
   "outputs": [],
   "source": [
    "dop:hvd[`:DistributedOptimizer;*;opt]\n",
    "opt:dop[`:minimize;*;cost;`global_step pykw global_step]"
   ]
  },
  {
   "cell_type": "code",
   "execution_count": 17,
   "metadata": {},
   "outputs": [
    {
     "name": "stderr",
     "output_type": "stream",
     "text": [
      "2018-03-10 12:12:37.897410: I tensorflow/core/platform/cpu_feature_guard.cc:137] Your CPU supports instructions that this TensorFlow binary was not compiled to use: SSE4.1 SSE4.2 AVX AVX2 FMA\n"
     ]
    },
    {
     "data": {
      "text/plain": [
       "{[f;x]embedPy[f;x]}[foreign]enlist\n"
      ]
     },
     "execution_count": 17,
     "metadata": {},
     "output_type": "execute_result"
    }
   ],
   "source": [
    "sess:K[`:get_session][]\n",
    "sess[`:run;*;tf[`:global_variables_initializer;*][]]"
   ]
  },
  {
   "cell_type": "code",
   "execution_count": 0,
   "metadata": {},
   "outputs": [
    {
     "ename": "\u001b[0;31mtf\u001b[0m",
     "evalue": "\u001b[0;31mtf\u001b[0m",
     "output_type": "error",
     "traceback": [
      "\u001b[0;31mevaluation error:\n\u001b[0m",
      "\u001b[0;31mtf\u001b[0m",
      "\u001b[0;31m\u001b[0m",
      "\u001b[0;31m  [0]  config:tf[`:ConfigProto;*][]\n              ^\n\u001b[0m"
     ]
    }
   ],
   "source": [
    "config:tf[`:ConfigProto;*][]\n",
    "/config[:;`:allow_growth;1]"
   ]
  },
  {
   "cell_type": "code",
   "execution_count": 18,
   "metadata": {},
   "outputs": [
    {
     "name": "stdout",
     "output_type": "stream",
     "text": [
      "\n"
     ]
    }
   ],
   "source": [
    "print tf[`:ConfigProto;<][]"
   ]
  },
  {
   "cell_type": "code",
   "execution_count": null,
   "metadata": {},
   "outputs": [
    {
     "name": "stderr",
     "output_type": "stream",
     "text": [
      "Sorry, this application or an associated library has encountered a fatal error and will exit.\n",
      "If known, please email the steps to reproduce this error to tech@kx.com\n",
      "with a copy of the kdb+ startup banner.\n",
      "Thank you.\n",
      "/home/kkumar/q/l64/q() [0x47a781]\n",
      "/lib/x86_64-linux-gnu/libpthread.so.0(+0x10330) [0x7fbd2e362330]\n",
      "/opt/A3/lib/python3.6/site-packages/google/protobuf/pyext/_message.cpython-36m-x86_64-linux-gnu.so(+0x16ddc) [0x7fbcff3cfddc]\n",
      "/opt/A3/lib/libpython3.6m.so.1.0(+0xcee1f) [0x7fbd274fbe1f]\n",
      "/opt/A3/lib/libpython3.6m.so.1.0(_PyCFunction_FastCallDict+0x197) [0x7fbd275eed67]\n",
      "/opt/A3/lib/libpython3.6m.so.1.0(+0x2060c9) [0x7fbd276330c9]\n",
      "/opt/A3/lib/libpython3.6m.so.1.0(_PyEval_EvalFrameDefault+0x161a) [0x7fbd274f4c4a]\n",
      "/opt/A3/lib/libpython3.6m.so.1.0(+0x204460) [0x7fbd27631460]\n",
      "/opt/A3/lib/libpython3.6m.so.1.0(+0x2061ef) [0x7fbd276331ef]\n",
      "/opt/A3/lib/libpython3.6m.so.1.0(_PyEval_EvalFrameDefault+0x161a) [0x7fbd274f4c4a]\n",
      "/opt/A3/lib/libpython3.6m.so.1.0(+0x204460) [0x7fbd27631460]\n",
      "/opt/A3/lib/libpython3.6m.so.1.0(+0x2061ef) [0x7fbd276331ef]\n",
      "/opt/A3/lib/libpython3.6m.so.1.0(_PyEval_EvalFrameDefault+0x161a) [0x7fbd274f4c4a]\n",
      "/opt/A3/lib/libpython3.6m.so.1.0(+0x2059a3) [0x7fbd276329a3]\n",
      "/opt/A3/lib/libpython3.6m.so.1.0(_PyFunction_FastCallDict+0x1f1) [0x7fbd27632c61]\n"
     ]
    }
   ],
   "source": [
    ".p.help  tf[`:ConfigProto;*][]"
   ]
  },
  {
   "cell_type": "code",
   "execution_count": null,
   "metadata": {
    "collapsed": true
   },
   "outputs": [],
   "source": []
  }
 ],
 "metadata": {
  "kernelspec": {
   "display_name": "Q 3.5",
   "language": "q",
   "name": "qpk"
  },
  "language_info": {
   "file_extension": ".q",
   "mimetype": "text/x-q",
   "name": "q",
   "version": "3.5.0"
  }
 },
 "nbformat": 4,
 "nbformat_minor": 2
}
