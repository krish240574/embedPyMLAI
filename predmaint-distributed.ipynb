{
 "cells": [
  {
   "cell_type": "code",
   "execution_count": 1,
   "metadata": {
    "collapsed": true
   },
   "outputs": [],
   "source": [
    "\\l p.q"
   ]
  },
  {
   "cell_type": "code",
   "execution_count": 2,
   "metadata": {},
   "outputs": [
    {
     "name": "stderr",
     "output_type": "stream",
     "text": [
      "/opt/A3/lib/python3.6/site-packages/h5py/__init__.py:34: FutureWarning: Conversion of the second argument of issubdtype from `float` to `np.floating` is deprecated. In future, it will be treated as `np.float64 == np.dtype(float).type`.\n",
      "  from ._conv import register_converters as _register_converters\n",
      "Using TensorFlow backend.\n",
      "/opt/A3/lib/python3.6/importlib/_bootstrap.py:219: RuntimeWarning: compiletime version 3.5 of module 'tensorflow.python.framework.fast_tensor_util' does not match runtime version 3.6\n",
      "  return f(*args, **kwds)\n"
     ]
    }
   ],
   "source": [
    "seq:.p.import[`keras;`:models;`:Sequential;*]\n",
    "keras:.p.import `keras\n",
    "dense:.p.import[`keras;`:layers;`:Dense;*]\n",
    "K:.p.import[`keras;`:backend]\n",
    "pd:.p.import `pandas\n",
    "np:.p.import `numpy\n",
    "hvd:.p.import `horovod.tensorflow"
   ]
  },
  {
   "cell_type": "code",
   "execution_count": 3,
   "metadata": {},
   "outputs": [
    {
     "data": {
      "text/plain": [
       "{[f;x]embedPy[f;x]}[foreign]enlist\n"
      ]
     },
     "execution_count": 3,
     "metadata": {},
     "output_type": "execute_result"
    }
   ],
   "source": [
    "hvd[`:init;*][]"
   ]
  },
  {
   "cell_type": "code",
   "execution_count": 4,
   "metadata": {
    "collapsed": true
   },
   "outputs": [],
   "source": [
    "nparray:.p.import[`numpy;`:array;>]"
   ]
  },
  {
   "cell_type": "code",
   "execution_count": 5,
   "metadata": {
    "collapsed": true
   },
   "outputs": [],
   "source": [
    "colStr:\"IIIII\"\n",
    "d:(colStr;enlist \",\")0: `:/home/kkumar/q/l64/hdata.csv"
   ]
  },
  {
   "cell_type": "code",
   "execution_count": 6,
   "metadata": {
    "collapsed": true
   },
   "outputs": [],
   "source": [
    "cd:cols d"
   ]
  },
  {
   "cell_type": "code",
   "execution_count": 7,
   "metadata": {
    "collapsed": true
   },
   "outputs": [],
   "source": [
    "e:\"f\"$d`Event;t:\"f\"$d`Time"
   ]
  },
  {
   "cell_type": "code",
   "execution_count": 8,
   "metadata": {
    "collapsed": true
   },
   "outputs": [],
   "source": [
    "x:\"f\"$flip d cd where not cd in `Event`Time"
   ]
  },
  {
   "cell_type": "code",
   "execution_count": 9,
   "metadata": {},
   "outputs": [
    {
     "data": {
      "text/plain": [
       "k){'[y;x]}/,[enlist]|:@[{[f;x]embedPy[f;x]}].[code[code;]enlist[;;][foreign]]..\n"
      ]
     },
     "execution_count": 9,
     "metadata": {},
     "output_type": "execute_result"
    }
   ],
   "source": [
    "hvd[`:init;*]\n",
    "tf:.p.import `tensorflow"
   ]
  },
  {
   "cell_type": "code",
   "execution_count": 10,
   "metadata": {
    "collapsed": true
   },
   "outputs": [],
   "source": [
    "ev:tf[`:placeholder;*;pykwargs (`dtype;`name)!(`float64;`e)]\n",
    "tm:tf[`:placeholder;*;pykwargs (`dtype;`name)!(`float64;`t)]\n",
    "xv:tf[`:placeholder;*;pykwargs (`dtype;`name)!(`float64;`x)]"
   ]
  },
  {
   "cell_type": "code",
   "execution_count": 21,
   "metadata": {},
   "outputs": [],
   "source": [
    "trainnet:{[data;ndl;ndn]\n",
    "    nn:tf[`:layers;`:dense;*;data;3;`activation pykw tf[`:nn;`:relu]];\n",
    "    i:0;\n",
    "    while[i<ndl;\n",
    "        nn:tf[`:layers;`:dense;*;nn;ndn;`activation pykw tf[`:nn;`:relu]];\n",
    "        i:i+1];\n",
    "    nn:tf[`:layers;`:dense;*;nn;1;`activation pykw tf[`:nn;`:relu]];\n",
    "    :nn\n",
    "    }"
   ]
  },
  {
   "cell_type": "code",
   "execution_count": 27,
   "metadata": {},
   "outputs": [],
   "source": [
    "fitness:{[lr;ndl;act]\n",
    "    nn:trainnet[tf[`:convert_to_tensor;*;nparray x til 1000];ndn];\n",
    "    cost:tf[`:divide;*;tf[`:subtract;*;tf[`:transpose;*;nn];tf[`:log;*;tf[`:cumsum;*;tf[`:exp;*;nn]]]];tf[`:reduce_sum;*;e]];\n",
    "    opt:tf[`:train;`:GradientDescentOptimizer;*;lr];\n",
    "    global_step:tf[`:train;`:get_or_create_global_step;*][];\n",
    "    dop:hvd[`:DistributedOptimizer;*;opt];\n",
    "    opt:dop[`:minimize;*;cost;`global_step pykw global_step];\n",
    "    .p.e\"import tensorflow as tf\";\n",
    "    .p.e\"import horovod.tensorflow as hvd\";\n",
    "    .p.e\"config = tf.ConfigProto()\";\n",
    "    .p.e\"config.gpu_options.allow_growth=True\";\n",
    "    .p.e\"config.gpu_options.visible_device_list=str(hvd.local_rank())\";\n",
    "    config:.p.get`config;\n",
    "    print config;\n",
    "    tf[`:add_to_collection;*;`prediction;nn];\n",
    "    .p.e\"l=list()\";\n",
    "    sz:count d;\n",
    "    mon_sess:tf[`:Session;*;`config pykw config];\n",
    "    mon_sess[`:run;*;tf[`:global_variables_initializer;*][]];\n",
    "\n",
    "    i:0;\n",
    "    .p.set[`mon_sess;mon_sess];\n",
    "    .p.set[`opt;opt];\n",
    "    .p.set[`cost;cost];\n",
    "    .p.set[`x;xv];\n",
    "    .p.set[`e;ev];\n",
    "    while[i<sz;\n",
    "        if[1000<=(sz-i);\n",
    "            .p.set[`X;nparray x til 1000];\n",
    "            .p.set[`E;nparray e til 1000];\n",
    "            o:.p.eval\"mon_sess.run([tf.get_collection(\\\"prediction\\\"),opt,cost],feed_dict={x:X,e:E})\";\n",
    "            .p.set[`o;o];\n",
    "            .p.eval\"l.append(o[0])\"];\n",
    "        i:i+1000;\n",
    "        ];\n",
    "        :1}\n",
    "\n"
   ]
  },
  {
   "cell_type": "code",
   "execution_count": 28,
   "metadata": {},
   "outputs": [],
   "source": [
    "dimlr:skopt[`:space;`:Real;*;`low pykw 0.000001;`high pykw 0.01;`prior pykw `log_uniform;`name pykw `learning_rate]\n",
    "dimndl:skopt[`:space;`:Integer;*;`low pykw 1;`high pykw 5;`name pykw `num_dense_layers];\n",
    "dimndn:skopt[`:space;`:Integer;*;`low pykw 5;`high pykw 512;`name pykw `num_dense_nodes];\n"
   ]
  },
  {
   "cell_type": "code",
   "execution_count": 29,
   "metadata": {},
   "outputs": [],
   "source": [
    "skopt:.p.import `skopt\n"
   ]
  },
  {
   "cell_type": "code",
   "execution_count": 30,
   "metadata": {},
   "outputs": [],
   "source": [
    ".p.set[`dimlr;dimlr];\n",
    ".p.set[`dimndl;dimndl];\n",
    ".p.set[`dimndn;dimndn]\n",
    "p)dimensions=list();\n",
    "p)dimensions.append(dimlr)\n",
    "p)dimensions.append(dimndl)\n",
    "p)dimensions.append(dimndn)\n",
    "dimensions:.p.get`dimensions"
   ]
  },
  {
   "cell_type": "code",
   "execution_count": 34,
   "metadata": {},
   "outputs": [
    {
     "name": "stderr",
     "output_type": "stream",
     "text": [
      "Traceback (most recent call last):\n",
      "  File \"<string>\", line 1, in <module>\n",
      "  File \"/opt/A3/lib/python3.6/site-packages/skopt/optimizer/gp.py\", line 228, in gp_minimize\n",
      "    callback=callback, n_jobs=n_jobs)\n",
      "  File \"/opt/A3/lib/python3.6/site-packages/skopt/optimizer/base.py\", line 254, in base_minimize\n",
      "    result = optimizer.tell(next_x, next_y)\n",
      "  File \"/opt/A3/lib/python3.6/site-packages/skopt/optimizer/optimizer.py\", line 418, in tell\n",
      "    self._check_y_is_valid(x, y)\n",
      "  File \"/opt/A3/lib/python3.6/site-packages/skopt/optimizer/optimizer.py\", line 560, in _check_y_is_valid\n",
      "    raise ValueError(\"`func` should return a scalar\")\n",
      "ValueError: `func` should return a scalar\n"
     ]
    },
    {
     "ename": "\u001b[0;31mp.c:76 runs pyerr\u001b[0m",
     "evalue": "\u001b[0;31mp.c:76 runs pyerr\u001b[0m",
     "output_type": "error",
     "traceback": [
      "\u001b[0;31mevaluation error:\n\u001b[0m",
      "\u001b[0;31mp.c:76 runs pyerr\u001b[0m",
      "\u001b[0;31m\u001b[0m",
      "\u001b[0;31m  [1]  .P.e:{runs[0;x];}\n             ^\n\u001b[0m",
      "\u001b[0;31m  [0]  /home/kkumar/q/p.q:5: .p.e:{$[\"def\"~3#x;$[x[3]in\"<*>\";ei 3;eo];\"class\"~5#x;$[x[5]in\"*>\";ei 5;eo];eo]x}\n                                   ^\n\u001b[0m"
     ]
    }
   ],
   "source": [
    "/ res:skopt[`:gp_minimize;*;`func pykw fitness;`dimensions pykw dimensions;`acq_func pykw `EI;`n_calls pykw 40]\n",
    ".p.set[`fitness;fitness];\n",
    "p)import skopt\n",
    "p)res = skopt.gp_minimize(func=fitness,dimensions=dimensions,acq_func='EI',n_calls=10)"
   ]
  }
 ],
 "metadata": {
  "kernelspec": {
   "display_name": "Q 3.5",
   "language": "q",
   "name": "qpk"
  },
  "language_info": {
   "file_extension": ".q",
   "mimetype": "text/x-q",
   "name": "q",
   "version": "3.5.0"
  }
 },
 "nbformat": 4,
 "nbformat_minor": 2
}
