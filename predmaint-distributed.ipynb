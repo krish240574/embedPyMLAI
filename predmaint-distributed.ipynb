{
 "cells": [
  {
   "cell_type": "code",
   "execution_count": 1,
   "metadata": {
    "collapsed": true
   },
   "outputs": [],
   "source": [
    "\\l p.q"
   ]
  },
  {
   "cell_type": "code",
   "execution_count": 2,
   "metadata": {},
   "outputs": [
    {
     "name": "stderr",
     "output_type": "stream",
     "text": [
      "/opt/A3/lib/python3.6/site-packages/h5py/__init__.py:34: FutureWarning: Conversion of the second argument of issubdtype from `float` to `np.floating` is deprecated. In future, it will be treated as `np.float64 == np.dtype(float).type`.\n",
      "  from ._conv import register_converters as _register_converters\n",
      "Using TensorFlow backend.\n",
      "/opt/A3/lib/python3.6/importlib/_bootstrap.py:219: RuntimeWarning: compiletime version 3.5 of module 'tensorflow.python.framework.fast_tensor_util' does not match runtime version 3.6\n",
      "  return f(*args, **kwds)\n"
     ]
    }
   ],
   "source": [
    "seq:.p.import[`keras;`:models;`:Sequential;*]\n",
    "keras:.p.import `keras\n",
    "dense:.p.import[`keras;`:layers;`:Dense;*]\n",
    "K:.p.import[`keras;`:backend]\n",
    "pd:.p.import `pandas\n",
    "np:.p.import `numpy\n",
    "hvd:.p.import `horovod.tensorflow"
   ]
  },
  {
   "cell_type": "code",
   "execution_count": 3,
   "metadata": {
    "collapsed": true
   },
   "outputs": [],
   "source": [
    "skopt:.p.import `skopt\n",
    "ci:.p.import[`lifelines;`:utils;*];"
   ]
  },
  {
   "cell_type": "code",
   "execution_count": 4,
   "metadata": {},
   "outputs": [
    {
     "data": {
      "text/plain": [
       "{[f;x]embedPy[f;x]}[foreign]enlist\n"
      ]
     },
     "execution_count": 4,
     "metadata": {},
     "output_type": "execute_result"
    }
   ],
   "source": [
    "hvd[`:init;*][]"
   ]
  },
  {
   "cell_type": "code",
   "execution_count": 5,
   "metadata": {
    "collapsed": true
   },
   "outputs": [],
   "source": [
    "nparray:.p.import[`numpy;`:array;>]"
   ]
  },
  {
   "cell_type": "code",
   "execution_count": 6,
   "metadata": {
    "collapsed": true
   },
   "outputs": [],
   "source": [
    "colStr:\"IIIII\"\n",
    "d:(colStr;enlist \",\")0: `:/home/kkumar/q/l64/hdata.csv"
   ]
  },
  {
   "cell_type": "code",
   "execution_count": 7,
   "metadata": {
    "collapsed": true
   },
   "outputs": [],
   "source": [
    "cd:cols d"
   ]
  },
  {
   "cell_type": "code",
   "execution_count": 8,
   "metadata": {
    "collapsed": true
   },
   "outputs": [],
   "source": [
    "e:\"f\"$d`Event;t:\"f\"$d`Time"
   ]
  },
  {
   "cell_type": "code",
   "execution_count": 9,
   "metadata": {
    "collapsed": true
   },
   "outputs": [],
   "source": [
    "x:\"f\"$flip d cd where not cd in `Event`Time"
   ]
  },
  {
   "cell_type": "code",
   "execution_count": 10,
   "metadata": {},
   "outputs": [
    {
     "data": {
      "text/plain": [
       "k){'[y;x]}/,[enlist]|:@[{[f;x]embedPy[f;x]}].[code[code;]enlist[;;][foreign]]..\n"
      ]
     },
     "execution_count": 10,
     "metadata": {},
     "output_type": "execute_result"
    }
   ],
   "source": [
    "hvd[`:init;*]\n",
    "tf:.p.import `tensorflow"
   ]
  },
  {
   "cell_type": "code",
   "execution_count": 11,
   "metadata": {
    "collapsed": true
   },
   "outputs": [],
   "source": [
    "ev:tf[`:placeholder;*;pykwargs (`dtype;`name)!(`float64;`e)]\n",
    "tm:tf[`:placeholder;*;pykwargs (`dtype;`name)!(`float64;`t)]\n",
    "xv:tf[`:placeholder;*;pykwargs (`dtype;`name)!(`float64;`x)]"
   ]
  },
  {
   "cell_type": "code",
   "execution_count": 61,
   "metadata": {
    "collapsed": true
   },
   "outputs": [],
   "source": [
    "trainnet:{[data;ndl;ndn]\n",
    "    nn:tf[`:layers;`:dense;*;data;3;`activation pykw tf[`:nn;`:relu]];\n",
    "    / show keras[`:backend;`:get_value;<;nn];\n",
    "    i:0;\n",
    "    while[i<ndl;\n",
    "        nn:tf[`:layers;`:dense;*;nn;ndn;`activation pykw tf[`:nn;`:relu]];\n",
    "        i:i+1];\n",
    "    nn:tf[`:layers;`:dense;*;nn;1;`activation pykw tf[`:nn;`:relu]];\n",
    "    show keras[`:backend;`:get_value;<;nn];\n",
    "    :nn}"
   ]
  },
  {
   "cell_type": "code",
   "execution_count": 66,
   "metadata": {
    "collapsed": true
   },
   "outputs": [],
   "source": [
    "fitness:{[l]\n",
    "    show l[1];\n",
    "    show l[2];\n",
    "    nn:trainnet[tf[`:convert_to_tensor;*;nparray x til 1000];l[1];l[2]];\n",
    "    nnval:keras[`:backend;`:get_value;<;nn];\n",
    "    cindex:0;\n",
    "    / cindex:ci[`:concordance_index;<;t;exp nnval;e];\n",
    "    cost:tf[`:divide;*;tf[`:subtract;*;tf[`:transpose;*;nn];tf[`:log;*;tf[`:cumsum;*;tf[`:exp;*;nn]]]];tf[`:reduce_sum;*;e]];\n",
    "    opt:tf[`:train;`:GradientDescentOptimizer;*;l[0]];\n",
    "    show \"here;\";\n",
    "    global_step:tf[`:train;`:get_or_create_global_step;*][];\n",
    "    dop:hvd[`:DistributedOptimizer;*;opt];\n",
    "    opt:dop[`:minimize;*;cost;`global_step pykw global_step];\n",
    "    .p.e\"import tensorflow as tf\";\n",
    "    .p.e\"import horovod.tensorflow as hvd\";\n",
    "    .p.e\"config = tf.ConfigProto()\";\n",
    "    .p.e\"config.gpu_options.allow_growth=True\";\n",
    "    .p.e\"config.gpu_options.visible_device_list=str(hvd.local_rank())\";\n",
    "    config:.p.get`config;\n",
    "    print config;\n",
    "    tf[`:add_to_collection;*;`prediction;nn];\n",
    "    .p.e\"l=list()\";\n",
    "    sz:count d;\n",
    "    mon_sess:tf[`:Session;*;`config pykw config];\n",
    "    mon_sess[`:run;*;tf[`:global_variables_initializer;*][]];\n",
    "\n",
    "    i:0;\n",
    "    .p.set[`mon_sess;mon_sess];\n",
    "    .p.set[`opt;opt];\n",
    "    .p.set[`cost;cost];\n",
    "    .p.set[`x;xv];\n",
    "    .p.set[`e;ev];\n",
    "    while[i<sz;\n",
    "        if[1000<=(sz-i);\n",
    "            .p.set[`X;nparray x til 1000];\n",
    "            .p.set[`E;nparray e til 1000];\n",
    "            o:.p.eval\"mon_sess.run([tf.get_collection(\\\"prediction\\\"),opt,cost],feed_dict={x:X,e:E})\";\n",
    "            .p.set[`o;o];\n",
    "            .p.eval\"l.append(o[0])\"];\n",
    "        i:i+1000;\n",
    "        ];\n",
    "        :cindex}\n",
    "\n"
   ]
  },
  {
   "cell_type": "code",
   "execution_count": 67,
   "metadata": {
    "collapsed": true
   },
   "outputs": [],
   "source": [
    "dimlr:skopt[`:space;`:Real;*;`low pykw 0.000001;`high pykw 0.01;`prior pykw `log_uniform;`name pykw `learning_rate]\n",
    "dimndl:skopt[`:space;`:Integer;*;`low pykw 1;`high pykw 5;`name pykw `num_dense_layers];\n",
    "dimndn:skopt[`:space;`:Integer;*;`low pykw 5;`high pykw 512;`name pykw `num_dense_nodes];\n"
   ]
  },
  {
   "cell_type": "code",
   "execution_count": 68,
   "metadata": {
    "collapsed": true
   },
   "outputs": [],
   "source": [
    ".p.set[`dimlr;dimlr];\n",
    ".p.set[`dimndl;dimndl];\n",
    ".p.set[`dimndn;dimndn]\n",
    "p)dimensions=list();\n",
    "p)dimensions.append(dimlr)\n",
    "p)dimensions.append(dimndl)\n",
    "p)dimensions.append(dimndn)\n"
   ]
  },
  {
   "cell_type": "code",
   "execution_count": 69,
   "metadata": {},
   "outputs": [
    {
     "name": "stdout",
     "output_type": "stream",
     "text": [
      "10\n",
      "Integer(low=5, high=512)\n"
     ]
    }
   ],
   "source": [
    "foo:{[l]l[0]}\n",
    ".p.set[`foo;foo]\n",
    "p)print(foo([10,20,30]))\n",
    "/ foo[(10;20;30)]\n",
    "p)print(dimensions[2])"
   ]
  },
  {
   "cell_type": "code",
   "execution_count": null,
   "metadata": {},
   "outputs": [
    {
     "name": "stdout",
     "output_type": "stream",
     "text": [
      "2\n",
      "140\n",
      "0.580064 \n",
      "0.58396  \n",
      "0.580064 \n",
      "0.6469944\n",
      "0.5577538\n",
      "0.4462031\n",
      "0.5577538\n",
      "0.3401164\n",
      "0.5354437\n",
      "0.6469944\n",
      "0.5131335\n",
      "0.6693046\n",
      "0.6246843\n",
      "0.4908234\n",
      "0.3569624\n",
      "0.7139249\n",
      "0.5354437\n",
      "0.7139249\n",
      "0.6469944\n",
      "0.6023741\n",
      "0.5393397\n",
      "0.5354437\n",
      "..\n",
      "\"here;\"\n",
      "gpu_options {\n",
      "  allow_growth: true\n",
      "  visible_device_list: \"0\"\n",
      "}\n",
      "\n"
     ]
    }
   ],
   "source": [
    "/ res:skopt[`:gp_minimize;*;`func pykw fitness;`dimensions pykw dimensions;`acq_func pykw `EI;`n_calls pykw 40]\n",
    ".p.set[`fitness;fitness];\n",
    "p)import skopt\n",
    "p)res = skopt.gp_minimize(func=fitness,dimensions=dimensions,acq_func='EI',n_calls=10)"
   ]
  },
  {
   "cell_type": "code",
   "execution_count": 29,
   "metadata": {},
   "outputs": [
    {
     "data": {
      "text/plain": [
       "1f\n"
      ]
     },
     "execution_count": 29,
     "metadata": {},
     "output_type": "execute_result"
    }
   ],
   "source": [
    "exp 0\n"
   ]
  },
  {
   "cell_type": "code",
   "execution_count": null,
   "metadata": {
    "collapsed": true
   },
   "outputs": [],
   "source": []
  }
 ],
 "metadata": {
  "kernelspec": {
   "display_name": "Q 3.5",
   "language": "q",
   "name": "qpk"
  },
  "language_info": {
   "file_extension": ".q",
   "mimetype": "text/x-q",
   "name": "q",
   "version": "3.5.0"
  }
 },
 "nbformat": 4,
 "nbformat_minor": 2
}
