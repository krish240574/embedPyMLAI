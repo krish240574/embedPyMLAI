{
 "cells": [
  {
   "cell_type": "code",
   "execution_count": 1,
   "metadata": {
    "collapsed": true
   },
   "outputs": [],
   "source": [
    "\\l p.q"
   ]
  },
  {
   "cell_type": "code",
   "execution_count": 2,
   "metadata": {},
   "outputs": [
    {
     "name": "stderr",
     "output_type": "stream",
     "text": [
      "/opt/A3/lib/python3.6/site-packages/h5py/__init__.py:34: FutureWarning: Conversion of the second argument of issubdtype from `float` to `np.floating` is deprecated. In future, it will be treated as `np.float64 == np.dtype(float).type`.\n",
      "  from ._conv import register_converters as _register_converters\n",
      "Using TensorFlow backend.\n",
      "/opt/A3/lib/python3.6/importlib/_bootstrap.py:219: RuntimeWarning: compiletime version 3.5 of module 'tensorflow.python.framework.fast_tensor_util' does not match runtime version 3.6\n",
      "  return f(*args, **kwds)\n"
     ]
    }
   ],
   "source": [
    "seq:.p.import[`keras;`:models;`:Sequential;*]\n",
    "keras:.p.import `keras\n",
    "dense:.p.import[`keras;`:layers;`:Dense;*]\n",
    "K:.p.import[`keras;`:backend]\n",
    "pd:.p.import `pandas\n",
    "np:.p.import `numpy\n",
    "hvd:.p.import `horovod.tensorflow"
   ]
  },
  {
   "cell_type": "code",
   "execution_count": 3,
   "metadata": {},
   "outputs": [
    {
     "data": {
      "text/plain": [
       "{[f;x]embedPy[f;x]}[foreign]enlist\n"
      ]
     },
     "execution_count": 3,
     "metadata": {},
     "output_type": "execute_result"
    }
   ],
   "source": [
    "hvd[`:init;*][]"
   ]
  },
  {
   "cell_type": "code",
   "execution_count": 4,
   "metadata": {
    "collapsed": true
   },
   "outputs": [],
   "source": [
    "nparray:.p.import[`numpy;`:array;>]"
   ]
  },
  {
   "cell_type": "code",
   "execution_count": 5,
   "metadata": {
    "collapsed": true
   },
   "outputs": [],
   "source": [
    "colStr:\"IIIII\"\n",
    "d:(colStr;enlist \",\")0: `:/home/kkumar/q/l64/hdata.csv"
   ]
  },
  {
   "cell_type": "code",
   "execution_count": 6,
   "metadata": {
    "collapsed": true
   },
   "outputs": [],
   "source": [
    "cd:cols d"
   ]
  },
  {
   "cell_type": "code",
   "execution_count": 7,
   "metadata": {
    "collapsed": true
   },
   "outputs": [],
   "source": [
    "e:\"f\"$d`Event;t:\"f\"$d`Time"
   ]
  },
  {
   "cell_type": "code",
   "execution_count": 8,
   "metadata": {
    "collapsed": true
   },
   "outputs": [],
   "source": [
    "x:\"f\"$flip d cd where not cd in `Event`Time"
   ]
  },
  {
   "cell_type": "code",
   "execution_count": 9,
   "metadata": {},
   "outputs": [
    {
     "data": {
      "text/plain": [
       "k){'[y;x]}/,[enlist]|:@[{[f;x]embedPy[f;x]}].[code[code;]enlist[;;][foreign]]..\n"
      ]
     },
     "execution_count": 9,
     "metadata": {},
     "output_type": "execute_result"
    }
   ],
   "source": [
    "hvd[`:init;*]\n",
    "tf:.p.import `tensorflow"
   ]
  },
  {
   "cell_type": "code",
   "execution_count": 10,
   "metadata": {
    "collapsed": true
   },
   "outputs": [],
   "source": [
    "trainnet:{[data]\n",
    "    nn:tf[`:layers;`:dense;*;data;3;`activation pykw tf[`:nn;`:relu]];\n",
    "    nn:tf[`:layers;`:dense;*;nn;100;`activation pykw tf[`:nn;`:relu]];\n",
    "    nn:tf[`:layers;`:dense;*;nn;100;`activation pykw tf[`:nn;`:relu]];\n",
    "    nn:tf[`:layers;`:dense;*;nn;100;`activation pykw tf[`:nn;`:relu]];\n",
    "    nn:tf[`:layers;`:dense;*;nn;1;`activation pykw tf[`:nn;`:relu]];\n",
    "    :nn\n",
    "    }"
   ]
  },
  {
   "cell_type": "code",
   "execution_count": 11,
   "metadata": {
    "collapsed": true
   },
   "outputs": [],
   "source": [
    "nn:trainnet[tf[`:convert_to_tensor;*;nparray x til 1000]]"
   ]
  },
  {
   "cell_type": "code",
   "execution_count": 12,
   "metadata": {
    "collapsed": true
   },
   "outputs": [],
   "source": [
    "ev:tf[`:placeholder;*;pykwargs (`dtype;`name)!(`float64;`e)]\n",
    "tm:tf[`:placeholder;*;pykwargs (`dtype;`name)!(`float64;`t)]\n",
    "xv:tf[`:placeholder;*;pykwargs (`dtype;`name)!(`float64;`x)]"
   ]
  },
  {
   "cell_type": "code",
   "execution_count": 13,
   "metadata": {
    "collapsed": true
   },
   "outputs": [],
   "source": [
    "cost:tf[`:divide;*;tf[`:subtract;*;tf[`:transpose;*;nn];tf[`:log;*;tf[`:cumsum;*;tf[`:exp;*;nn]]]];tf[`:reduce_sum;*;e]];"
   ]
  },
  {
   "cell_type": "code",
   "execution_count": 14,
   "metadata": {
    "collapsed": true
   },
   "outputs": [],
   "source": [
    "opt:tf[`:train;`:GradientDescentOptimizer;*;0.01*hvd[`:size;<][]]"
   ]
  },
  {
   "cell_type": "code",
   "execution_count": 15,
   "metadata": {
    "collapsed": true
   },
   "outputs": [],
   "source": [
    "global_step:tf[`:train;`:get_or_create_global_step;*][]"
   ]
  },
  {
   "cell_type": "code",
   "execution_count": 16,
   "metadata": {
    "collapsed": true
   },
   "outputs": [],
   "source": [
    "dop:hvd[`:DistributedOptimizer;*;opt]\n",
    "opt:dop[`:minimize;*;cost;`global_step pykw global_step]"
   ]
  },
  {
   "cell_type": "code",
   "execution_count": 17,
   "metadata": {},
   "outputs": [
    {
     "name": "stderr",
     "output_type": "stream",
     "text": [
      "2018-03-12 10:03:56.117375: I tensorflow/core/platform/cpu_feature_guard.cc:137] Your CPU supports instructions that this TensorFlow binary was not compiled to use: SSE4.1 SSE4.2 AVX AVX2 FMA\n"
     ]
    },
    {
     "data": {
      "text/plain": [
       "{[f;x]embedPy[f;x]}[foreign]enlist\n"
      ]
     },
     "execution_count": 17,
     "metadata": {},
     "output_type": "execute_result"
    }
   ],
   "source": [
    "sess:K[`:get_session][]\n",
    "sess[`:run;*;tf[`:global_variables_initializer;*][]]"
   ]
  },
  {
   "cell_type": "code",
   "execution_count": 18,
   "metadata": {
    "collapsed": true
   },
   "outputs": [],
   "source": [
    "p)import tensorflow as tf\n",
    "p)import horovod.tensorflow as hvd\n",
    "p)config = tf.ConfigProto()\n",
    "p)config.gpu_options.allow_growth=True\n",
    "p)config.gpu_options.visible_device_list=str(hvd.local_rank())\n",
    "config:.p.get`config"
   ]
  },
  {
   "cell_type": "code",
   "execution_count": 19,
   "metadata": {},
   "outputs": [
    {
     "data": {
      "text/plain": [
       "{[f;x]embedPy[f;x]}[foreign]enlist\n"
      ]
     },
     "execution_count": 19,
     "metadata": {},
     "output_type": "execute_result"
    }
   ],
   "source": [
    "K[`:set_session;*;tf[`:Session;*;`config pykw config]]"
   ]
  },
  {
   "cell_type": "code",
   "execution_count": 20,
   "metadata": {},
   "outputs": [
    {
     "data": {
      "text/plain": [
       "{[f;x]embedPy[f;x]}[foreign]enlist\n"
      ]
     },
     "execution_count": 20,
     "metadata": {},
     "output_type": "execute_result"
    }
   ],
   "source": [
    "tf[`:add_to_collection;*;`prediction;nn]\n",
    "p)l=list()\n",
    "sz:count d"
   ]
  },
  {
   "cell_type": "code",
   "execution_count": 21,
   "metadata": {},
   "outputs": [
    {
     "data": {
      "text/plain": [
       "{[f;x]embedPy[f;x]}[foreign]enlist\n"
      ]
     },
     "execution_count": 21,
     "metadata": {},
     "output_type": "execute_result"
    }
   ],
   "source": [
    "mon_sess:tf[`:Session;*;`config pykw config]\n",
    "mon_sess[`:run;*;[tf[`:global_variables_initializer;*][]]]"
   ]
  },
  {
   "cell_type": "code",
   "execution_count": 22,
   "metadata": {},
   "outputs": [],
   "source": [
    "i:0;\n",
    ".p.set[`mon_sess;mon_sess]\n",
    ".p.set[`opt;opt]\n",
    ".p.set[`cost;cost]\n",
    ".p.set[`x;xv]\n",
    ".p.set[`e;ev]\n",
    "while[i<sz;\n",
    "    if[1000<=(sz-i);\n",
    "        .p.set[`X;nparray x til 1000];\n",
    "        .p.set[`E;nparray e til 1000];\n",
    "        o:.p.eval\"mon_sess.run([tf.get_collection(\\\"prediction\\\"),opt,cost],feed_dict={x:X,e:E})\";\n",
    "        .p.set[`o;o];\n",
    "        .p.eval\"l.append(o[0])\"];\n",
    "    i:i+1000;\n",
    "    ]\n",
    "    "
   ]
  },
  {
   "cell_type": "code",
   "execution_count": 23,
   "metadata": {
    "collapsed": true
   },
   "outputs": [],
   "source": [
    "l:.p.get`l"
   ]
  },
  {
   "cell_type": "code",
   "execution_count": 25,
   "metadata": {},
   "outputs": [],
   "source": [
    "l: l`"
   ]
  },
  {
   "cell_type": "code",
   "execution_count": 30,
   "metadata": {},
   "outputs": [
    {
     "data": {
      "text/plain": [
       "5064000\n"
      ]
     },
     "execution_count": 30,
     "metadata": {},
     "output_type": "execute_result"
    }
   ],
   "source": [
    "count raze over l"
   ]
  },
  {
   "cell_type": "code",
   "execution_count": 31,
   "metadata": {
    "collapsed": true
   },
   "outputs": [],
   "source": [
    "l:(count d)#(raze over l)"
   ]
  },
  {
   "cell_type": "code",
   "execution_count": 32,
   "metadata": {},
   "outputs": [
    {
     "data": {
      "text/plain": [
       "0 0 0 0 0 0 0 0 0 0 0 0 0 0 0 0 0 0 0 0 0 0 0 0 0 0 0 2.887201 0 0 0 0.691890..\n"
      ]
     },
     "execution_count": 32,
     "metadata": {},
     "output_type": "execute_result"
    }
   ],
   "source": [
    "l"
   ]
  },
  {
   "cell_type": "code",
   "execution_count": null,
   "metadata": {
    "collapsed": true
   },
   "outputs": [],
   "source": []
  }
 ],
 "metadata": {
  "kernelspec": {
   "display_name": "Q 3.5",
   "language": "q",
   "name": "qpk"
  },
  "language_info": {
   "file_extension": ".q",
   "mimetype": "text/x-q",
   "name": "q",
   "version": "3.5.0"
  }
 },
 "nbformat": 4,
 "nbformat_minor": 2
}
