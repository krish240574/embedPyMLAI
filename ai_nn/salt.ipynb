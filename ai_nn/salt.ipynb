{
 "cells": [
  {
   "cell_type": "code",
   "execution_count": 1,
   "metadata": {},
   "outputs": [],
   "source": [
    "\\l p.q"
   ]
  },
  {
   "cell_type": "code",
   "execution_count": 2,
   "metadata": {},
   "outputs": [],
   "source": [
    "p)import numpy as np\n",
    "p)k = np.array(['2007-07', '2006-01', '2010-08'], dtype='datetime64')"
   ]
  },
  {
   "cell_type": "code",
   "execution_count": 4,
   "metadata": {},
   "outputs": [],
   "source": [
    "k:.p.get[`k]"
   ]
  },
  {
   "cell_type": "code",
   "execution_count": 5,
   "metadata": {},
   "outputs": [
    {
     "data": {
      "text/plain": [
       "\"datetime64[M]\"\n"
      ]
     },
     "execution_count": 5,
     "metadata": {},
     "output_type": "execute_result"
    }
   ],
   "source": [
    "k[`:dtype.name]`"
   ]
  },
  {
   "cell_type": "code",
   "execution_count": 33,
   "metadata": {},
   "outputs": [],
   "source": [
    "p)import datetime\n",
    "p)k = np.array(['2003-06-28T17:26:01.260806768', '2002-08-17T16:36:35.216906816', '2003-11-07T05:38:53.870536832', '2001-06-26T18:10:48.896862568', '2000-09-11T21:28:21.496423780', '2002-05-11T13:56:52.890104944'],dtype='datetime64[ns]')"
   ]
  },
  {
   "cell_type": "code",
   "execution_count": 34,
   "metadata": {},
   "outputs": [
    {
     "name": "stdout",
     "output_type": "stream",
     "text": [
      "['2003-06-28T17:26:01.260806768' '2002-08-17T16:36:35.216906816'\n",
      " '2003-11-07T05:38:53.870536832' '2001-06-26T18:10:48.896862568'\n",
      " '2000-09-11T21:28:21.496423780' '2002-05-11T13:56:52.890104944']\n"
     ]
    }
   ],
   "source": [
    "print k:.p.get[`k]"
   ]
  },
  {
   "cell_type": "code",
   "execution_count": 35,
   "metadata": {},
   "outputs": [
    {
     "data": {
      "text/plain": [
       "\"datetime64[ns]\"\n"
      ]
     },
     "execution_count": 35,
     "metadata": {},
     "output_type": "execute_result"
    }
   ],
   "source": [
    "k[`:dtype.name]`"
   ]
  },
  {
   "cell_type": "code",
   "execution_count": 40,
   "metadata": {},
   "outputs": [
    {
     "name": "stdout",
     "output_type": "stream",
     "text": [
      "['2007-07-13' '2006-01-13' '2010-08-13']\n"
     ]
    }
   ],
   "source": [
    "print k:.p.import[`numpy;`:array;.p.eval\"list(['2007-07-13', '2006-01-13', '2010-08-13'])\";`dtype pykw `datetime64]"
   ]
  },
  {
   "cell_type": "code",
   "execution_count": 12,
   "metadata": {},
   "outputs": [
    {
     "name": "stdout",
     "output_type": "stream",
     "text": [
      "datetime64[D]\n"
     ]
    }
   ],
   "source": [
    "print k[`:dtype.name]"
   ]
  },
  {
   "cell_type": "code",
   "execution_count": 1,
   "metadata": {},
   "outputs": [],
   "source": [
    "encode:{[alist]\n",
    "    changed:where differ alist;\n",
    "    : (deltas 1_changed,count alist),'alist changed;\n",
    "    };"
   ]
  },
  {
   "cell_type": "code",
   "execution_count": 2,
   "metadata": {},
   "outputs": [],
   "source": [
    "decode:{[pairs]\n",
    "    :raze {$[1~count x;:x;:(first x)#last x];} each pairs;\n",
    "    };"
   ]
  },
  {
   "cell_type": "code",
   "execution_count": 29,
   "metadata": {},
   "outputs": [
    {
     "name": "stdout",
     "output_type": "stream",
     "text": [
      "(2865, 2585, 3)\n"
     ]
    }
   ],
   "source": [
    "p)import cv2\n",
    "p)img = cv2.imread(\"/mnt/disks/rockstar/multi_material_detection/data/display/Untitled1.png\")\n",
    "p)print(img.shape)\n",
    "img:.p.get[`img]\n"
   ]
  },
  {
   "cell_type": "code",
   "execution_count": 26,
   "metadata": {},
   "outputs": [],
   "source": [
    "from keras.preprocessing.image import load_img\n",
    "from keras import Model\n",
    "from keras.callbacks import EarlyStopping, ModelCheckpoint, ReduceLROnPlateau\n",
    "from keras.models import load_model\n",
    "from keras.optimizers import Adam\n",
    "from keras.utils.vis_utils import plot_model\n",
    "from keras.preprocessing.image import ImageDataGenerator\n",
    "from keras.layers import Input, Conv2D, Conv2DTranspose, MaxPooling2D, concatenate, Dropout\n",
    "from skimage.transform import resize"
   ]
  },
  {
   "cell_type": "code",
   "execution_count": 9,
   "metadata": {},
   "outputs": [],
   "source": [
    "loadimg:.p.import[`keras;`:preprocessing;`:image;`:load_img]\n",
    "model:.p.import[`keras;`:Model]\n",
    "es:.p.import[`keras;`:callbacks;`:EarlyStopping]\n",
    "chkpt:.p.import[`keras;`:callbacks;`:ModelCheckpoint]\n",
    "rlr:.p.import[`keras;`:callbacks;`:ReduceLROnPlateau]\n",
    "lm:.p.import[`keras;`:models;`:load_model]\n",
    "idg:.p.import[`keras;`:preprocessing;`:image;`:ImageDataGenerator]\n",
    "inp:.p.import[`keras;`:layers;`:Input]\n",
    "conv2d:.p.import[`keras;`:layers;`:Conv2D]\n",
    "conv2dt:.p.import[`keras;`:layers;`:Conv2DTranspose]\n",
    "maxp2d:.p.import[`keras;`:layers;`:MaxPooling2D]\n",
    "concat:.p.import[`keras;`:layers;`:concatenate]\n",
    "dropout:.p.import[`keras;`:layers;`:Dropout]\n",
    "input:.p.import[`keras;`:layers;`:Input]\n",
    "\n",
    "p)from skimage.transform import resize\n",
    "resize:.p.get[`resize]"
   ]
  },
  {
   "cell_type": "code",
   "execution_count": 8,
   "metadata": {},
   "outputs": [],
   "source": [
    "buildmodel:{[inputlayer;startneurons]\n",
    "    conv1:(conv2d[startneurons*1;(3;3);`activation pykw `relu;`padding pykw `same])[inputlayer];\n",
    "    conv1:(conv2d[startneurons*1; (3;3); `activation pykw `relu; `padding pykw `same])[conv1];\n",
    "    pool1:(dropout[0.25])[maxp2d[(2;2)][conv1]];\n",
    "\n",
    "    / 64 -> 32\n",
    "    conv2:(conv2d[startneurons*2; (3;3); `activation pykw `relu; `padding pykw `same])[pool1];\n",
    "    conv2:(conv2d[startneurons*2, (3;3); `activation pykw `relu; `padding pykw `same])[conv2];\n",
    "    pool2:(dropout[0.25])[maxp2d[(2;2)][conv2]];\n",
    "\n",
    "/ 64 -> 32\n",
    "    conv3:conv2d[startneurons * 4; (3;3); `activation pykw `relu; `padding pykw `same][pool2];\n",
    "    conv3:conv2d[startneurons * 4; (3;3); `activation pykw `relu; `padding pykw `same][conv3];\n",
    "    pool3:(dropout[0.25])[maxp2d[(2;2)][conv3]];\n",
    "\n",
    "/ 16 -> 8\n",
    "    conv4:conv2d[startneurons * 8; (3;3); `activation pykw `relu; `padding pykw `same][pool3];\n",
    "    conv4:conv2d[startneurons * 8; (3;3); `activation pykw `relu; `padding pykw `same][conv4];\n",
    "    pool4:(dropout[0.25])[maxp2d[(2;2)][conv4]];\n",
    "\n",
    "/ Middle\n",
    "    convm:conv2d[startneurons * 16; (3;3); `activation pykw `relu; `padding pykw `same][pool4];\n",
    "    convm:conv2d[startneurons * 16; (3;3); `activation pykw `relu; `padding pykw `same][convm];\n",
    "\n",
    "/ 8 -> 16\n",
    "    deconv4:conv2dt[startneurons * 8; (3;3);`strides pykw (2;2); padding pykw `same][convm];\n",
    "    uconv4:concat[deconv4;conv4];\n",
    "    uconv4:(dropout[0.5])[uconv4];\n",
    "    uconv4:conv2d[startneurons * 8; (3;3); `activation pykw `relu; `padding pykw `same][uconv4];\n",
    "    uconv4:conv2d[startneurons * 8; (3;3); `activation pykw `relu; `padding pykw `same][uconv4];\n",
    "\n",
    "/ 16 -> 32\n",
    "    deconv3:conv2dt[startneurons * 4;(3;3);`strides pykw (2;2);`padding pykw `same][uconv4];\n",
    "    uconv3:concatenate[deconv3;conv3];\n",
    "    uconv3:(dropout[0.5])[uconv3];\n",
    "    uconv3:conv2d[startneurons * 4;(3;3);`activation pykw `relu;`padding pykw `same][uconv3];\n",
    "    uconv3:conv2d[startneurons * 4;(3;3);`activation pykw `relu;`padding pykw `same][uconv3];\n",
    "\n",
    "/ 32 -> 64\n",
    "    deconv2:conv2dt[startneurons * 2; (3;3), `strides pykw (2;2); `padding pykw `same][uconv3];\n",
    "    uconv2:concat[deconv2;conv2];\n",
    "    uconv2:(dropout[0.5])[uconv2];\n",
    "    uconv2:conv2d[startneurons * 2; (3;3); `activation pykw `relu; `padding pykw `same][uconv2];\n",
    "    uconv2:conv2d[startneurons * 2; (3;3); `activation pykw `relu; `padding pykw `same][uconv2];\n",
    "\n",
    "    deconv1:conv2dt[(startneurons * 1); (3;3); `strides pykw (2;2); `padding pykw `same][uconv2];\n",
    "    uconv1:concat[deconv1;conv1];\n",
    "    uconv1:(dropout[0.5])[uconv1];\n",
    "    uconv1:conv2d[startneurons * 1;(3;3); `activation pykw `relu; `padding pykw `same][uconv1];\n",
    "    uconv1:conv2d[startneurons * 1;(3;3); `activation pykw `relu; `padding pykw `same][uconv1];\n",
    "\n",
    "    / uconv1 = Dropout(0.5)(uconv1)\n",
    "    :outputlayer:conv2d[1; (1;1); `padding pykw `same, `activation pykw `sigmoid][uconv1]}\n"
   ]
  },
  {
   "cell_type": "code",
   "execution_count": 9,
   "metadata": {},
   "outputs": [
    {
     "name": "stderr",
     "output_type": "stream",
     "text": [
      "2018-08-30 06:22:46.484416: I tensorflow/core/platform/cpu_feature_guard.cc:141] Your CPU supports instructions that this TensorFlow binary was not compiled to use: AVX2 FMA\n",
      "2018-08-30 06:22:47.696138: E tensorflow/core/common_runtime/direct_session.cc:158] Internal: failed initializing StreamExecutor for CUDA device ordinal 0: Internal: failed call to cuDevicePrimaryCtxRetain: CUDA_ERROR_OUT_OF_MEMORY; total memory reported: 11996954624\n"
     ]
    },
    {
     "ename": "\u001b[0;31mcall: Failed to create session.\u001b[0m",
     "evalue": "\u001b[0;31mcall: Failed to create session.\u001b[0m",
     "output_type": "error",
     "traceback": [
      "\u001b[0;31mevaluation error:\n\u001b[0m",
      "\u001b[0;31mcall: Failed to create session.\u001b[0m",
      "\u001b[0;31m\u001b[0m",
      "\u001b[0;31m  [3]  /mnt/disks/rockstar/q/p.q:29: .p.embedPy:\n        '`NYI];\n      wrap pyfunc[f]. x];\n                    ^\n    \":\"~first a0:string x0;                                                / attr lookup and possible call\n\u001b[0m",
      "\u001b[0;31m  [2]  /mnt/disks/rockstar/q/p.q:37: .p.i.wf:{[f;x]embedPy[f;x]}\n                                                   ^\n\u001b[0m",
      "\u001b[0;31m  [1]  buildmodel:{[inputlayer;startneurons]\n    conv1:(conv2d[startneurons*1;(3;3);`activation pykw `relu;`padding pykw `same])[inputlayer];\n          ^\n    conv1:(conv2d[startneurons*1; (3;3); `activation pykw `relu; `padding pykw `same])[conv1];\n\u001b[0m",
      "\u001b[0;31m  [0]  outputlayer:buildmodel[inputlayer;16]\n                   ^\n\u001b[0m"
     ]
    }
   ],
   "source": [
    "imgsz:128\n",
    "inputlayer:input[(imgsz;imgsz;1)]\n",
    "outputlayer:buildmodel[inputlayer;16]"
   ]
  },
  {
   "cell_type": "code",
   "execution_count": null,
   "metadata": {},
   "outputs": [],
   "source": []
  }
 ],
 "metadata": {
  "kernelspec": {
   "display_name": "Q (kdb+)",
   "language": "q",
   "name": "qpk"
  },
  "language_info": {
   "file_extension": ".q",
   "mimetype": "text/x-q",
   "name": "q",
   "version": "3.5.0"
  }
 },
 "nbformat": 4,
 "nbformat_minor": 2
}
